{
 "cells": [
  {
   "cell_type": "code",
   "execution_count": 2,
   "metadata": {},
   "outputs": [],
   "source": [
    "%matplotlib inline  \n",
    "## This allows figures to be plotted \"inline\". \n",
    "## In a normal python script, you use plt.show() to see the figures, \n",
    "## or plt.savefig(\"name.pdf\") to save the figures \n",
    "## (you can also use this command in the notebooks)\n",
    "\n",
    "import numpy as np  # for mathematical functions and arrays\n",
    "import matplotlib.pyplot as plt  # for plot\n",
    "import pandas as pd # for data analysis\n",
    "## We use short names for the libraries we use a lot.\n",
    "\n",
    "import io \n",
    "import os\n",
    "\n",
    "import aspect_python"
   ]
  },
  {
   "cell_type": "markdown",
   "metadata": {},
   "source": [
    "# Test of compaction in ASPECT -- 1D\n",
    "\n",
    "We set a model with 30% fluid in a column, where the bottom boundary is set to 0% porosity (full solid) and the top at 100% (full liquid). \n",
    "\n",
    "The system compacts as the two phases segregates. \n",
    "\n",
    "We use the same set of equations than in Sramek, Ricard and Bercovici 2007 (SRB07), but without melting and freezing and in the limit of $\\omega=0$ and $\\eta_f << \\eta_s$. To do that, we modify the functions for permeability, bulk viscosity and shear viscosity in the global melt model, as the resolution is based on the Keller et al. 2013. With $k_0$ a reference permeability, $\\eta_i$ a reference shear viscosity for the phase $i$ ($f$ for the fluid, $s$ for the solid),  we have\n",
    "\n",
    "- the Darcy coefficient as\n",
    "$$ K_D = k(\\phi) / \\eta_0 = k_0 \\phi^2 / \\eta_f$$\n",
    "\n",
    "- the shear viscosity as\n",
    "$$ \\eta = (1-\\phi) \\eta_s $$\n",
    "\n",
    "- the bulk viscosity as \n",
    "$$ \\xi = \\frac{1-\\phi}{\\phi} \\eta_s$$\n",
    "\n",
    "The bulk viscosity is not defined in SRB07, but the pressure jump gives $\\Delta P = -K_0 \\eta_s /\\phi \\nabla \\cdot v$, which corresponds in the McKenzie equation as $\\Delta P = -\\xi/(1-\\phi) \\nabla \\cdot v$. "
   ]
  },
  {
   "cell_type": "markdown",
   "metadata": {},
   "source": [
    "## Run the model\n",
    "\n",
    "You'll need to run the model diff_adim.prm with aspect. To do so, you need to first compile the additional library. The easiest is to use cmake: \n",
    "\n",
    "> cmake -D Aspect_DIR=/link/to/build/directory .\n",
    "\n",
    "> make\n",
    "\n",
    "Then you can run aspect: \n",
    "\n",
    "> ./aspect diff_adim.prm\n",
    "\n",
    "The model is slow to run, but you can still look at preliminary results with this notebook. "
   ]
  },
  {
   "cell_type": "markdown",
   "metadata": {},
   "source": [
    "## Read the statistics file: \n",
    "\n",
    "We read the statistics file with two ideas: \n",
    "\n",
    "- Is the conservation of mass (of porosity) OK? \n",
    "- List the output files for plot later."
   ]
  },
  {
   "cell_type": "code",
   "execution_count": 57,
   "metadata": {},
   "outputs": [
    {
     "name": "stdout",
     "output_type": "stream",
     "text": [
      "Number of output files so far: 1\n"
     ]
    },
    {
     "data": {
      "image/png": "[encoded data removed]",
      "text/plain": [
       "<Figure size 720x288 with 2 Axes>"
      ]
     },
     "metadata": {
      "needs_background": "light"
     },
     "output_type": "display_data"
    }
   ],
   "source": [
    "folder =\"../\"\n",
    "dossier = folder+ \"output-srb/\"  #output folder\n",
    "\n",
    "statistics = dossier+ \"statistics\"\n",
    "data = aspect_python.read_statistics(statistics)\n",
    "\n",
    "\n",
    "fig, ax = plt.subplots(1, 2, figsize=[10, 4])\n",
    "data.plot(\"Time (seconds)\", \"Global mass for composition porosity\", ax=ax[0])\n",
    "\n",
    "# variation of mass compared to the initial value\n",
    "initial_mass = data[\"Global mass for composition porosity\"].iloc[0]\n",
    "data[\"Variation of mass (%)\"] = (data[\"Global mass for composition porosity\"]-initial_mass)/initial_mass*100\n",
    "data.plot(\"Time (seconds)\", \"Variation of mass (%)\", ax=ax[1])\n",
    "\n",
    "# We drop the lines without a visualization file. \n",
    "data = data.dropna(subset=[\"Visualization file name\"])\n",
    "# we plot the points with a visualization file on the mass evolution\n",
    "ax[0].plot(data[\"Time (seconds)\"], data[\"Global mass for composition porosity\"],'.')\n",
    "\n",
    "\n",
    "visu_files = data[\"Visualization file name\"].values\n",
    "visu_times = data[\"Time (seconds)\"].values\n",
    "\n",
    "\n",
    "print(\"Number of output files so far: {}\".format(len(visu_files)))"
   ]
  },
  {
   "cell_type": "markdown",
   "metadata": {},
   "source": [
    "## Initial time step\n",
    "\n",
    "We can have a look at the initial time step and the profile for the velocity. "
   ]
  },
  {
   "cell_type": "code",
   "execution_count": 58,
   "metadata": {},
   "outputs": [
    {
     "data": {
      "text/html": [
       "<div>\n",
       "<style scoped>\n",
       "    .dataframe tbody tr th:only-of-type {\n",
       "        vertical-align: middle;\n",
       "    }\n",
       "\n",
       "    .dataframe tbody tr th {\n",
       "        vertical-align: top;\n",
       "    }\n",
       "\n",
       "    .dataframe thead th {\n",
       "        text-align: right;\n",
       "    }\n",
       "</style>\n",
       "<table border=\"1\" class=\"dataframe\">\n",
       "  <thead>\n",
       "    <tr style=\"text-align: right;\">\n",
       "      <th></th>\n",
       "      <th>x</th>\n",
       "      <th>y</th>\n",
       "      <th>velocity_x</th>\n",
       "      <th>velocity_y</th>\n",
       "      <th>p_f</th>\n",
       "      <th>p_c_bar</th>\n",
       "      <th>u_f_x</th>\n",
       "      <th>u_f_y</th>\n",
       "      <th>p</th>\n",
       "      <th>T</th>\n",
       "      <th>...</th>\n",
       "      <th>density</th>\n",
       "      <th>viscosity</th>\n",
       "      <th>thermal_expansivity</th>\n",
       "      <th>nonadiabatic_temperature</th>\n",
       "      <th>strain_rate</th>\n",
       "      <th>p_c</th>\n",
       "      <th>fluid_density</th>\n",
       "      <th>permeability</th>\n",
       "      <th>fluid_viscosity</th>\n",
       "      <th>compaction_viscosity</th>\n",
       "    </tr>\n",
       "  </thead>\n",
       "  <tbody>\n",
       "    <tr>\n",
       "      <th>0</th>\n",
       "      <td>0.0000</td>\n",
       "      <td>0.0000</td>\n",
       "      <td>0.000000e+00</td>\n",
       "      <td>0.000000</td>\n",
       "      <td>1.14983</td>\n",
       "      <td>0.913881</td>\n",
       "      <td>-2.771430e-12</td>\n",
       "      <td>0.000713</td>\n",
       "      <td>1.34369</td>\n",
       "      <td>0</td>\n",
       "      <td>...</td>\n",
       "      <td>2</td>\n",
       "      <td>1.0</td>\n",
       "      <td>0</td>\n",
       "      <td>0</td>\n",
       "      <td>0.029103</td>\n",
       "      <td>0.223854</td>\n",
       "      <td>1</td>\n",
       "      <td>0.00</td>\n",
       "      <td>1</td>\n",
       "      <td>1000000.00000</td>\n",
       "    </tr>\n",
       "    <tr>\n",
       "      <th>1</th>\n",
       "      <td>0.0025</td>\n",
       "      <td>0.0000</td>\n",
       "      <td>-3.322270e-18</td>\n",
       "      <td>0.000000</td>\n",
       "      <td>1.14983</td>\n",
       "      <td>0.913881</td>\n",
       "      <td>-2.771440e-12</td>\n",
       "      <td>0.000713</td>\n",
       "      <td>1.34369</td>\n",
       "      <td>0</td>\n",
       "      <td>...</td>\n",
       "      <td>2</td>\n",
       "      <td>1.0</td>\n",
       "      <td>0</td>\n",
       "      <td>0</td>\n",
       "      <td>0.029103</td>\n",
       "      <td>0.223854</td>\n",
       "      <td>1</td>\n",
       "      <td>0.00</td>\n",
       "      <td>1</td>\n",
       "      <td>1000000.00000</td>\n",
       "    </tr>\n",
       "    <tr>\n",
       "      <th>2</th>\n",
       "      <td>0.0050</td>\n",
       "      <td>0.0000</td>\n",
       "      <td>0.000000e+00</td>\n",
       "      <td>0.000000</td>\n",
       "      <td>1.14983</td>\n",
       "      <td>0.913881</td>\n",
       "      <td>-2.771430e-12</td>\n",
       "      <td>0.000713</td>\n",
       "      <td>1.34369</td>\n",
       "      <td>0</td>\n",
       "      <td>...</td>\n",
       "      <td>2</td>\n",
       "      <td>1.0</td>\n",
       "      <td>0</td>\n",
       "      <td>0</td>\n",
       "      <td>0.029103</td>\n",
       "      <td>0.223854</td>\n",
       "      <td>1</td>\n",
       "      <td>0.00</td>\n",
       "      <td>1</td>\n",
       "      <td>1000000.00000</td>\n",
       "    </tr>\n",
       "    <tr>\n",
       "      <th>3</th>\n",
       "      <td>0.0000</td>\n",
       "      <td>0.0025</td>\n",
       "      <td>0.000000e+00</td>\n",
       "      <td>-0.000125</td>\n",
       "      <td>1.14732</td>\n",
       "      <td>0.793170</td>\n",
       "      <td>-1.354050e-12</td>\n",
       "      <td>0.000139</td>\n",
       "      <td>1.38390</td>\n",
       "      <td>0</td>\n",
       "      <td>...</td>\n",
       "      <td>2</td>\n",
       "      <td>0.7</td>\n",
       "      <td>0</td>\n",
       "      <td>0</td>\n",
       "      <td>0.070787</td>\n",
       "      <td>0.194286</td>\n",
       "      <td>1</td>\n",
       "      <td>0.09</td>\n",
       "      <td>1</td>\n",
       "      <td>2.33333</td>\n",
       "    </tr>\n",
       "    <tr>\n",
       "      <th>4</th>\n",
       "      <td>0.0025</td>\n",
       "      <td>0.0025</td>\n",
       "      <td>-1.421490e-18</td>\n",
       "      <td>-0.000125</td>\n",
       "      <td>1.14732</td>\n",
       "      <td>0.793170</td>\n",
       "      <td>-1.354050e-12</td>\n",
       "      <td>0.000139</td>\n",
       "      <td>1.38390</td>\n",
       "      <td>0</td>\n",
       "      <td>...</td>\n",
       "      <td>2</td>\n",
       "      <td>0.7</td>\n",
       "      <td>0</td>\n",
       "      <td>0</td>\n",
       "      <td>0.070787</td>\n",
       "      <td>0.194286</td>\n",
       "      <td>1</td>\n",
       "      <td>0.09</td>\n",
       "      <td>1</td>\n",
       "      <td>2.33333</td>\n",
       "    </tr>\n",
       "  </tbody>\n",
       "</table>\n",
       "<p>5 rows × 21 columns</p>\n",
       "</div>"
      ],
      "text/plain": [
       "        x       y    velocity_x  velocity_y      p_f   p_c_bar         u_f_x  \\\n",
       "0  0.0000  0.0000  0.000000e+00    0.000000  1.14983  0.913881 -2.771430e-12   \n",
       "1  0.0025  0.0000 -3.322270e-18    0.000000  1.14983  0.913881 -2.771440e-12   \n",
       "2  0.0050  0.0000  0.000000e+00    0.000000  1.14983  0.913881 -2.771430e-12   \n",
       "3  0.0000  0.0025  0.000000e+00   -0.000125  1.14732  0.793170 -1.354050e-12   \n",
       "4  0.0025  0.0025 -1.421490e-18   -0.000125  1.14732  0.793170 -1.354050e-12   \n",
       "\n",
       "      u_f_y        p  T          ...           density  viscosity  \\\n",
       "0  0.000713  1.34369  0          ...                 2        1.0   \n",
       "1  0.000713  1.34369  0          ...                 2        1.0   \n",
       "2  0.000713  1.34369  0          ...                 2        1.0   \n",
       "3  0.000139  1.38390  0          ...                 2        0.7   \n",
       "4  0.000139  1.38390  0          ...                 2        0.7   \n",
       "\n",
       "   thermal_expansivity  nonadiabatic_temperature  strain_rate       p_c  \\\n",
       "0                    0                         0     0.029103  0.223854   \n",
       "1                    0                         0     0.029103  0.223854   \n",
       "2                    0                         0     0.029103  0.223854   \n",
       "3                    0                         0     0.070787  0.194286   \n",
       "4                    0                         0     0.070787  0.194286   \n",
       "\n",
       "   fluid_density  permeability  fluid_viscosity  compaction_viscosity  \n",
       "0              1          0.00                1         1000000.00000  \n",
       "1              1          0.00                1         1000000.00000  \n",
       "2              1          0.00                1         1000000.00000  \n",
       "3              1          0.09                1               2.33333  \n",
       "4              1          0.09                1               2.33333  \n",
       "\n",
       "[5 rows x 21 columns]"
      ]
     },
     "execution_count": 58,
     "metadata": {},
     "output_type": "execute_result"
    }
   ],
   "source": [
    "file = folder+visu_files[0]+ \".0000.gnuplot\" # dossier+\"solution/solution-00000.0000.gnuplot\"\n",
    "\n",
    "data_0 = aspect_python.read_gnuplot_visu(file)\n",
    "data_0.head()"
   ]
  },
  {
   "cell_type": "markdown",
   "metadata": {},
   "source": [
    "The analytical solution for a constant porosity and constant gravity is "
   ]
  },
  {
   "cell_type": "code",
   "execution_count": 59,
   "metadata": {},
   "outputs": [],
   "source": [
    "def analytic_Sramek_cart(phi0, y, delta):\n",
    "    \"\"\" Solution analytique pour resolution Sramek in cartesian coordinates. \n",
    "    \"\"\"\n",
    "    h = np.sqrt(delta**2 * phi0 *\n",
    "                (1. + 4. / 3. * phi0) * (1 - phi0))\n",
    "    C3 = - phi0**2 * (1 - phi0) * delta**2\n",
    "    C1 = C3 * (np.exp(-1 / h) - 1) / (np.exp(1 / h) - np.exp(-1 / h))\n",
    "    C2 = -C1 - C3\n",
    "    analytical_solution = C1 * np.exp(y / h) + C2 * np.exp(-y / h) + C3\n",
    "    return analytical_solution"
   ]
  },
  {
   "cell_type": "code",
   "execution_count": 60,
   "metadata": {},
   "outputs": [
    {
     "name": "stderr",
     "output_type": "stream",
     "text": [
      "/home/marine/anaconda3/envs/gyic36/lib/python3.6/site-packages/ipykernel_launcher.py:11: RuntimeWarning: invalid value encountered in true_divide\n",
      "  # This is added back by InteractiveShellApp.init_path()\n"
     ]
    },
    {
     "data": {
      "text/plain": [
       "[<matplotlib.lines.Line2D at 0x7f2ce7a9f0f0>]"
      ]
     },
     "execution_count": 60,
     "metadata": {},
     "output_type": "execute_result"
    },
    {
     "data": {
      "image/png": "[encoded data removed]",
      "text/plain": [
       "<Figure size 432x288 with 1 Axes>"
      ]
     },
     "metadata": {
      "needs_background": "light"
     },
     "output_type": "display_data"
    },
    {
     "data": {
      "image/png": "[encoded data removed]",
      "text/plain": [
       "<Figure size 432x288 with 1 Axes>"
      ]
     },
     "metadata": {
      "needs_background": "light"
     },
     "output_type": "display_data"
    }
   ],
   "source": [
    "fig, ax = plt.subplots()\n",
    "data_0.plot(\"y\", \"velocity_y\", ax=ax)\n",
    "#ax.set_ylim([data_0[\"velocity_y\"].min(), 0.])\n",
    "ax.set_xlim([0, data_0[\"y\"].max()])\n",
    "\n",
    "y = data_0[\"y\"].values\n",
    "analytical_solution = analytic_Sramek_cart(0.3, y, 1.)\n",
    "ax.plot(y, analytical_solution)\n",
    "\n",
    "fig, ax = plt.subplots()\n",
    "ax.plot(analytical_solution/data_0[\"velocity_y\"].values)"
   ]
  },
  {
   "cell_type": "code",
   "execution_count": 56,
   "metadata": {},
   "outputs": [
    {
     "data": {
      "text/plain": [
       "(-0.1, 0)"
      ]
     },
     "execution_count": 56,
     "metadata": {},
     "output_type": "execute_result"
    },
    {
     "data": {
      "image/png": "[encoded data removed]",
      "text/plain": [
       "<Figure size 720x288 with 2 Axes>"
      ]
     },
     "metadata": {
      "needs_background": "light"
     },
     "output_type": "display_data"
    }
   ],
   "source": [
    "N=10\n",
    "\n",
    "fig, ax = plt.subplots(1, 2, figsize=[10, 4], sharey=True)\n",
    "\n",
    "\n",
    "for time, file in zip(visu_times[:--100:N], visu_files[::N]):\n",
    "    #print(time, file)\n",
    "    file = folder+file+\".0000.gnuplot\"\n",
    "    df = aspect_python.read_gnuplot_visu(file)\n",
    "    #df = df[df[\"x\"]==0.5]\n",
    "    ax[0].plot(df[\"porosity\"], df[\"y\"], label=\"t = {:.3e}\".format(time))\n",
    "    ax[1].plot(df[\"velocity_y\"], df[\"y\"])\n",
    "\n",
    "ax[0].legend()\n",
    "ax[0].set_xlim([-0.1, 1.1])\n",
    "ax[0].set_ylim([0, 1])\n",
    "ax[1].set_xlim([-0.1, 0])"
   ]
  },
  {
   "cell_type": "code",
   "execution_count": null,
   "metadata": {},
   "outputs": [],
   "source": []
  },
  {
   "cell_type": "markdown",
   "metadata": {},
   "source": [
    "### "
   ]
  },
  {
   "cell_type": "code",
   "execution_count": null,
   "metadata": {},
   "outputs": [],
   "source": []
  },
  {
   "cell_type": "code",
   "execution_count": null,
   "metadata": {},
   "outputs": [],
   "source": []
  },
  {
   "cell_type": "code",
   "execution_count": null,
   "metadata": {},
   "outputs": [],
   "source": [
    "\n"
   ]
  },
  {
   "cell_type": "code",
   "execution_count": null,
   "metadata": {},
   "outputs": [],
   "source": []
  }
 ],
 "metadata": {
  "kernelspec": {
   "display_name": "Python 3",
   "language": "python",
   "name": "python3"
  },
  "language_info": {
   "codemirror_mode": {
    "name": "ipython",
    "version": 3
   },
   "file_extension": ".py",
   "mimetype": "text/x-python",
   "name": "python",
   "nbconvert_exporter": "python",
   "pygments_lexer": "ipython3",
   "version": "3.6.6"
  }
 },
 "nbformat": 4,
 "nbformat_minor": 2
}
