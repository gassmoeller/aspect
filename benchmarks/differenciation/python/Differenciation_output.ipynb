{
 "cells": [
  {
   "cell_type": "code",
   "execution_count": null,
   "metadata": {},
   "outputs": [],
   "source": [
    "%matplotlib inline  \n",
    "## This allows figures to be plotted \"inline\". \n",
    "## In a normal python script, you use plt.show() to see the figures, \n",
    "## or plt.savefig(\"name.pdf\") to save the figures \n",
    "## (you can also use this command in the notebooks)\n",
    "\n",
    "import numpy as np  # for mathematical functions and arrays\n",
    "import matplotlib.pyplot as plt  # for plot\n",
    "import pandas as pd # for data analysis\n",
    "## We use short names for the libraries we use a lot.\n",
    "\n",
    "import io \n",
    "import os\n",
    "\n",
    "import aspect_python"
   ]
  },
  {
   "cell_type": "markdown",
   "metadata": {},
   "source": [
    "# Test of compaction in ASPECT -- 1D\n",
    "\n",
    "We set a model with 30% fluid in a column, where the bottom boundary is set to 0% porosity (full solid) and the top at 100% (full liquid). \n",
    "\n",
    "The system compacts as the two phases segregates. \n",
    "\n",
    "We use the same set of equations than in Sramek, Ricard and Bercovici 2007 (SRB07), but without melting and freezing and in the limit of $\\omega=0$ and $\\eta_f << \\eta_s$. To do that, we modify the functions for permeability, bulk viscosity and shear viscosity in the global melt model, as the resolution is based on the Keller et al. 2013. With $k_0$ a reference permeability, $\\eta_i$ a reference shear viscosity for the phase $i$ ($f$ for the fluid, $s$ for the solid),  we have\n",
    "\n",
    "- the Darcy coefficient as\n",
    "$$ K_D = k(\\phi) / \\eta_f= k_0 \\phi^2 / \\eta_f$$\n",
    "\n",
    "- the shear viscosity as\n",
    "$$ \\eta = (1-\\phi) \\eta_s $$\n",
    "\n",
    "- the bulk viscosity as \n",
    "$$ \\xi = \\frac{1-\\phi}{\\phi} \\eta_s$$\n",
    "\n",
    "The bulk viscosity is not defined in SRB07, but the pressure jump gives $\\Delta P = -K_0 \\eta_s /\\phi \\nabla \\cdot v$, which corresponds in the McKenzie equation as $\\Delta P = -\\xi/(1-\\phi) \\nabla \\cdot v$. "
   ]
  },
  {
   "cell_type": "markdown",
   "metadata": {},
   "source": [
    "## Dimensionless quantities\n",
    "\n",
    "We consider dimensionless quantities to compare to previous work. We set to 0 all the parameters referring to temperature-dependent and pressure-dependent  properties. The viscosities are set to 1, and the reference densities are chosen to have a density variation of 1.\n",
    "\n",
    "The domain is set to have a total length of 1. \n",
    "\n",
    "Doing that, we have a compaction lenght of 1: \n",
    "$$\n",
    "\\delta = \\sqrt{\\frac{\\eta_s}{\\eta_f}k_0}\n",
    "$$\n",
    "The scales for time and velocities (for a conduit of length $L$) are\n",
    "$$\n",
    "t \\propto \\frac{\\eta_s}{\\Delta \\rho g_0 L}\n",
    "$$\n",
    "$$\n",
    "v \\propto \\frac{\\Delta \\rho g_0 L^2 }{\\eta_s}\n",
    "$$\n",
    "\n",
    "\n",
    "To obtain a compaction length of 0.2, we set $\\eta_f = 25$."
   ]
  },
  {
   "cell_type": "markdown",
   "metadata": {},
   "source": [
    "## Run the model\n",
    "\n",
    "You'll need to run the model diff_adim.prm with aspect. To do so, you need to first compile the additional library. The easiest is to use cmake: \n",
    "\n",
    "> cmake -D Aspect_DIR=/link/to/build/directory .\n",
    "\n",
    "> make\n",
    "\n",
    "Then you can run aspect: \n",
    "\n",
    "> ./aspect diff_adim.prm\n",
    "\n",
    "The model is slow to run, but you can still look at preliminary results with this notebook. \n",
    "\n",
    "We could run it through this notebook, but it would prevent us to look at preliminary results while it's still running. "
   ]
  },
  {
   "cell_type": "markdown",
   "metadata": {},
   "source": [
    "## Read the statistics file: \n",
    "\n",
    "We read the statistics file with two ideas: \n",
    "\n",
    "- Is the conservation of mass (of porosity) OK? \n",
    "- List the output files for plot later."
   ]
  },
  {
   "cell_type": "code",
   "execution_count": null,
   "metadata": {},
   "outputs": [],
   "source": [
    "folder =\"../\"\n",
    "dossier = folder+ \"output-srb/\"  #output folder\n",
    "\n",
    "statistics = dossier+ \"statistics\"\n",
    "data = aspect_python.read_statistics(statistics)\n",
    "\n",
    "def update_files():\n",
    "    \"\"\" To update the names and number of visu_files \"\"\"\n",
    "    data = aspect_python.read_statistics(statistics)\n",
    "    data = data.dropna(subset=[\"Visualization file name\"])\n",
    "    visu_files = data[\"Visualization file name\"].values\n",
    "    visu_times = data[\"Time (seconds)\"].values\n",
    "    return visu_files, visu_times\n",
    "\n",
    "fig, ax = plt.subplots(1, 2, figsize=[10, 4])\n",
    "data.plot(\"Time (seconds)\", \"Global mass for composition porosity\", ax=ax[0])\n",
    "\n",
    "# variation of mass compared to the initial value\n",
    "initial_mass = data[\"Global mass for composition porosity\"].iloc[0]\n",
    "data[\"Variation of mass (%)\"] = (data[\"Global mass for composition porosity\"]-initial_mass)/initial_mass*100\n",
    "data.plot(\"Time (seconds)\", \"Variation of mass (%)\", ax=ax[1])\n",
    "\n",
    "print(\"Number of timesteps so far: {}\".format(data.shape[0]))\n",
    "\n",
    "# We drop the lines without a visualization file. \n",
    "data = data.dropna(subset=[\"Visualization file name\"])\n",
    "# we plot the points with a visualization file on the mass evolution\n",
    "ax[0].plot(data[\"Time (seconds)\"], data[\"Global mass for composition porosity\"],'.')\n",
    "\n",
    "\n",
    "visu_files = data[\"Visualization file name\"].values\n",
    "visu_times = data[\"Time (seconds)\"].values\n",
    "\n",
    "\n",
    "print(\"Number of output files so far: {}\".format(len(visu_files)))"
   ]
  },
  {
   "cell_type": "markdown",
   "metadata": {},
   "source": [
    "## Initial time step\n",
    "\n",
    "We can have a look at the initial time step and the profile for the velocity. "
   ]
  },
  {
   "cell_type": "code",
   "execution_count": null,
   "metadata": {},
   "outputs": [],
   "source": [
    "file = folder+visu_files[0]+ \".0000.gnuplot\" # dossier+\"solution/solution-00000.0000.gnuplot\"\n",
    "\n",
    "data_0 = aspect_python.read_gnuplot_visu(file)\n",
    "data_0.head()"
   ]
  },
  {
   "cell_type": "markdown",
   "metadata": {},
   "source": [
    "The analytical solution for a constant porosity and constant gravity is "
   ]
  },
  {
   "cell_type": "code",
   "execution_count": null,
   "metadata": {},
   "outputs": [],
   "source": [
    "def analytic_Sramek_cart(phi0, y, delta):\n",
    "    \"\"\" Solution analytique pour resolution Sramek in cartesian coordinates. \n",
    "    \"\"\"\n",
    "    h = np.sqrt(delta**2 * phi0 *\n",
    "                (1. + 4. / 3. * phi0) * (1 - phi0))\n",
    "    C3 = - phi0**2 * (1 - phi0) * delta**2\n",
    "    C1 = C3 * (np.exp(-1 / h) - 1) / (np.exp(1 / h) - np.exp(-1 / h))\n",
    "    C2 = -C1 - C3\n",
    "    analytical_solution = C1 * np.exp(y / h) + C2 * np.exp(-y / h) + C3\n",
    "    return analytical_solution"
   ]
  },
  {
   "cell_type": "code",
   "execution_count": null,
   "metadata": {},
   "outputs": [],
   "source": [
    "delta = 1\n",
    "\n",
    "fig, ax = plt.subplots()\n",
    "data_0.plot(\"y\", \"velocity_y\", ax=ax)\n",
    "#ax.set_ylim([data_0[\"velocity_y\"].min(), 0.])\n",
    "ax.set_xlim([0, data_0[\"y\"].max()])\n",
    "\n",
    "y = data_0[\"y\"].values\n",
    "analytical_solution = analytic_Sramek_cart(0.3, y, delta)\n",
    "ax.plot(y[::40], analytical_solution[::40], 'x', label=\"analytical solution\")\n",
    "ax.legend()\n",
    "plt.savefig(\"delta_02_analytical.pdf\")\n",
    "\n",
    "fig, ax = plt.subplots()\n",
    "ax.plot(analytical_solution/data_0[\"velocity_y\"].values)\n",
    "\n"
   ]
  },
  {
   "cell_type": "code",
   "execution_count": null,
   "metadata": {},
   "outputs": [],
   "source": [
    "N=10\n",
    "\n",
    "visu_files, visu_times = update_files()\n",
    "\n",
    "fig, ax = plt.subplots(1, 2, figsize=[10, 4], sharey=True)\n",
    "for time, file in zip(visu_times[::N], visu_files[::N]):\n",
    "    #print(time, file)\n",
    "    file = folder+file+\".0000.gnuplot\"\n",
    "    df = aspect_python.read_gnuplot_visu(file)\n",
    "\n",
    "    #df = df[df[\"x\"]==0.5]\n",
    "    ax[0].plot(df[\"porosity\"], df[\"y\"], label=\"t = {:.3e}\".format(time))\n",
    "    ax[1].plot(df[\"velocity_y\"], df[\"y\"], label=\"t = {:.3e}\".format(time))\n",
    "\n",
    "ax[1].legend(loc='center', bbox_to_anchor=(1.45, 0.8))\n",
    "ax[0].set_xlim([-0., 1.])\n",
    "ax[0].set_ylim([0, 1])\n",
    "ax[1].set_xlim([-0.03, 0])\n",
    "\n",
    "#plt.savefig(\"delta_02.pdf\")"
   ]
  },
  {
   "cell_type": "code",
   "execution_count": null,
   "metadata": {},
   "outputs": [],
   "source": []
  }
 ],
 "metadata": {
  "kernelspec": {
   "display_name": "Python 3",
   "language": "python",
   "name": "python3"
  },
  "language_info": {
   "codemirror_mode": {
    "name": "ipython",
    "version": 3
   },
   "file_extension": ".py",
   "mimetype": "text/x-python",
   "name": "python",
   "nbconvert_exporter": "python",
   "pygments_lexer": "ipython3",
   "version": "3.6.8"
  }
 },
 "nbformat": 4,
 "nbformat_minor": 2
}
